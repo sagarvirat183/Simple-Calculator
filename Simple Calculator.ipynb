{
 "cells": [
  {
   "cell_type": "code",
   "execution_count": null,
   "metadata": {},
   "outputs": [],
   "source": [
    "from tkinter import *\n",
    "def iCalc(source,side):\n",
    "    storeObj=Frame(source,borderwidth=4,bd=4,bg=\"powder blue\")\n",
    "    storeObj.pack(side=side,expand=YES,fill=BOTH)\n",
    "    return storeObj\n",
    "\n",
    "def button(source,side,text,command=None):\n",
    "    storeObj=Button(source,text=text,command=command)\n",
    "    storeObj.pack(side=side,expand=YES,fill=BOTH)\n",
    "    return storeObj\n",
    "class app(Frame):\n",
    "    def __init__(self):\n",
    "        Frame.__init__(self)\n",
    "        self.option_add('*Font','arial 20 bold')\n",
    "        self.pack(expand=YES,fill=BOTH)\n",
    "        self.master.title('calculator')\n",
    "        \n",
    "        display = StringVar()\n",
    "        Entry(self,relief=RIDGE,textvariable=display,justify='right',bd=30,bg=\"powder blue\").pack(side=TOP,expand=YES,fill=BOTH)\n",
    "        \n",
    "        for clearBut in ([\"CE\"],[\"C\"]):\n",
    "            erase=iCalc(self,TOP)\n",
    "            for ichar in clearBut:\n",
    "                button(erase,LEFT,ichar,lambda storeObj=display,q=ichar: storeObj.set(''))\n",
    "                \n",
    "        for NumBut in (\"789/\",\"456*\",\"123-\",\"0.+\"):\n",
    "            FunctionNum=iCalc(self,TOP)\n",
    "            for iEquals in NumBut:\n",
    "                button(FunctionNum,LEFT,iEquals,lambda storeObj=display,q=iEquals: storeObj.set(storeObj.get()+q))\n",
    "                \n",
    "        EqualsButton = iCalc(self,TOP)\n",
    "        for iEquals in \"=\":\n",
    "            if iEquals == '=':\n",
    "                btniEquals = button(EqualsButton,LEFT,iEquals)\n",
    "                btniEquals.bind('<ButtonRelease-1>',lambda e,s=self,storeObj=display:s.calc(storeObj),'+')\n",
    "            else:\n",
    "                btniEquals = button(EqualsButton,LEFT,iEquals,lambda storeObj=display,s='%s'%iEquals: storeObj.set(storeObj.get()+s))\n",
    "                   \n",
    "                \n",
    "                \n",
    "    def calc(self,dispaly):\n",
    "        try:\n",
    "            display.set(eval(display.get()))\n",
    "            \n",
    "        except:\n",
    "            display.set(\"ERROR\")\n",
    "                        \n",
    "        \n",
    "if __name__ == '__main__':\n",
    "    app().mainloop()\n"
   ]
  },
  {
   "cell_type": "code",
   "execution_count": null,
   "metadata": {},
   "outputs": [],
   "source": []
  }
 ],
 "metadata": {
  "kernelspec": {
   "display_name": "Python 3",
   "language": "python",
   "name": "python3"
  },
  "language_info": {
   "codemirror_mode": {
    "name": "ipython",
    "version": 3
   },
   "file_extension": ".py",
   "mimetype": "text/x-python",
   "name": "python",
   "nbconvert_exporter": "python",
   "pygments_lexer": "ipython3",
   "version": "3.8.5"
  }
 },
 "nbformat": 4,
 "nbformat_minor": 4
}
